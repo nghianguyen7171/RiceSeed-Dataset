{
 "cells": [
  {
   "cell_type": "code",
   "execution_count": 73,
   "metadata": {},
   "outputs": [
    {
     "data": {
      "text/plain": [
       "(576, 264)"
      ]
     },
     "execution_count": 73,
     "metadata": {},
     "output_type": "execute_result"
    }
   ],
   "source": [
    "# Import lib\n",
    "import numpy as np\n",
    "import pandas as pd\n",
    "import seaborn as sns\n",
    "from sklearn.model_selection import train_test_split, cross_val_score\n",
    "from sklearn.metrics import accuracy_score,classification_report,confusion_matrix\n",
    "Data = pd.read_csv('riceseeds.csv')\n",
    "#Choose 6 motil species\n",
    "df = Data[Data['Species'].isin(['BC15','BQ10','NH92','NT16','PC10','VietHuong8'])]\n",
    "df.shape\n",
    "#df"
   ]
  },
  {
   "cell_type": "code",
   "execution_count": 74,
   "metadata": {},
   "outputs": [
    {
     "data": {
      "text/html": [
       "<div>\n",
       "<style scoped>\n",
       "    .dataframe tbody tr th:only-of-type {\n",
       "        vertical-align: middle;\n",
       "    }\n",
       "\n",
       "    .dataframe tbody tr th {\n",
       "        vertical-align: top;\n",
       "    }\n",
       "\n",
       "    .dataframe thead th {\n",
       "        text-align: right;\n",
       "    }\n",
       "</style>\n",
       "<table border=\"1\" class=\"dataframe\">\n",
       "  <thead>\n",
       "    <tr style=\"text-align: right;\">\n",
       "      <th></th>\n",
       "      <th>ID</th>\n",
       "      <th>Species</th>\n",
       "      <th>F1</th>\n",
       "      <th>F2</th>\n",
       "      <th>F3</th>\n",
       "      <th>F2/F3</th>\n",
       "      <th>F1/V</th>\n",
       "      <th>Eccentricity</th>\n",
       "      <th>7</th>\n",
       "      <th>8</th>\n",
       "      <th>...</th>\n",
       "      <th>253</th>\n",
       "      <th>254</th>\n",
       "      <th>255</th>\n",
       "      <th>256</th>\n",
       "      <th>257</th>\n",
       "      <th>258</th>\n",
       "      <th>259</th>\n",
       "      <th>260</th>\n",
       "      <th>261</th>\n",
       "      <th>262</th>\n",
       "    </tr>\n",
       "  </thead>\n",
       "  <tbody>\n",
       "    <tr>\n",
       "      <th>0</th>\n",
       "      <td>1</td>\n",
       "      <td>BC15</td>\n",
       "      <td>0.26242</td>\n",
       "      <td>0.20654</td>\n",
       "      <td>0.17159</td>\n",
       "      <td>0.15826</td>\n",
       "      <td>0.13428</td>\n",
       "      <td>0.11743</td>\n",
       "      <td>0.10507</td>\n",
       "      <td>0.096976</td>\n",
       "      <td>...</td>\n",
       "      <td>0.53561</td>\n",
       "      <td>0.53988</td>\n",
       "      <td>0.53785</td>\n",
       "      <td>0.54262</td>\n",
       "      <td>14253</td>\n",
       "      <td>240.43</td>\n",
       "      <td>76.130</td>\n",
       "      <td>0.31664</td>\n",
       "      <td>0.038539</td>\n",
       "      <td>0.94855</td>\n",
       "    </tr>\n",
       "    <tr>\n",
       "      <th>1</th>\n",
       "      <td>2</td>\n",
       "      <td>BC15</td>\n",
       "      <td>0.31821</td>\n",
       "      <td>0.23118</td>\n",
       "      <td>0.18412</td>\n",
       "      <td>0.17612</td>\n",
       "      <td>0.14412</td>\n",
       "      <td>0.12382</td>\n",
       "      <td>0.10986</td>\n",
       "      <td>0.100490</td>\n",
       "      <td>...</td>\n",
       "      <td>0.51014</td>\n",
       "      <td>0.51328</td>\n",
       "      <td>0.51246</td>\n",
       "      <td>0.51035</td>\n",
       "      <td>12607</td>\n",
       "      <td>218.46</td>\n",
       "      <td>74.044</td>\n",
       "      <td>0.33894</td>\n",
       "      <td>0.039736</td>\n",
       "      <td>0.94081</td>\n",
       "    </tr>\n",
       "    <tr>\n",
       "      <th>2</th>\n",
       "      <td>3</td>\n",
       "      <td>BC15</td>\n",
       "      <td>0.32834</td>\n",
       "      <td>0.25076</td>\n",
       "      <td>0.19865</td>\n",
       "      <td>0.18694</td>\n",
       "      <td>0.15487</td>\n",
       "      <td>0.13260</td>\n",
       "      <td>0.11756</td>\n",
       "      <td>0.108020</td>\n",
       "      <td>...</td>\n",
       "      <td>0.54310</td>\n",
       "      <td>0.54311</td>\n",
       "      <td>0.54349</td>\n",
       "      <td>0.54735</td>\n",
       "      <td>12466</td>\n",
       "      <td>218.15</td>\n",
       "      <td>73.619</td>\n",
       "      <td>0.33747</td>\n",
       "      <td>0.040051</td>\n",
       "      <td>0.94134</td>\n",
       "    </tr>\n",
       "    <tr>\n",
       "      <th>3</th>\n",
       "      <td>4</td>\n",
       "      <td>BC15</td>\n",
       "      <td>0.27924</td>\n",
       "      <td>0.20974</td>\n",
       "      <td>0.17183</td>\n",
       "      <td>0.16021</td>\n",
       "      <td>0.13328</td>\n",
       "      <td>0.11572</td>\n",
       "      <td>0.10301</td>\n",
       "      <td>0.094112</td>\n",
       "      <td>...</td>\n",
       "      <td>0.53562</td>\n",
       "      <td>0.53882</td>\n",
       "      <td>0.53679</td>\n",
       "      <td>0.53728</td>\n",
       "      <td>12420</td>\n",
       "      <td>215.46</td>\n",
       "      <td>74.641</td>\n",
       "      <td>0.34644</td>\n",
       "      <td>0.041690</td>\n",
       "      <td>0.93807</td>\n",
       "    </tr>\n",
       "    <tr>\n",
       "      <th>4</th>\n",
       "      <td>5</td>\n",
       "      <td>BC15</td>\n",
       "      <td>0.32191</td>\n",
       "      <td>0.23589</td>\n",
       "      <td>0.19659</td>\n",
       "      <td>0.18134</td>\n",
       "      <td>0.14963</td>\n",
       "      <td>0.12903</td>\n",
       "      <td>0.11361</td>\n",
       "      <td>0.103620</td>\n",
       "      <td>...</td>\n",
       "      <td>0.52167</td>\n",
       "      <td>0.52311</td>\n",
       "      <td>0.52263</td>\n",
       "      <td>0.52652</td>\n",
       "      <td>13851</td>\n",
       "      <td>238.71</td>\n",
       "      <td>74.448</td>\n",
       "      <td>0.31187</td>\n",
       "      <td>0.038821</td>\n",
       "      <td>0.95012</td>\n",
       "    </tr>\n",
       "  </tbody>\n",
       "</table>\n",
       "<p>5 rows × 264 columns</p>\n",
       "</div>"
      ],
      "text/plain": [
       "   ID Species       F1       F2       F3    F2/F3     F1/V  Eccentricity  \\\n",
       "0   1    BC15  0.26242  0.20654  0.17159  0.15826  0.13428       0.11743   \n",
       "1   2    BC15  0.31821  0.23118  0.18412  0.17612  0.14412       0.12382   \n",
       "2   3    BC15  0.32834  0.25076  0.19865  0.18694  0.15487       0.13260   \n",
       "3   4    BC15  0.27924  0.20974  0.17183  0.16021  0.13328       0.11572   \n",
       "4   5    BC15  0.32191  0.23589  0.19659  0.18134  0.14963       0.12903   \n",
       "\n",
       "         7         8  ...      253      254      255      256    257     258  \\\n",
       "0  0.10507  0.096976  ...  0.53561  0.53988  0.53785  0.54262  14253  240.43   \n",
       "1  0.10986  0.100490  ...  0.51014  0.51328  0.51246  0.51035  12607  218.46   \n",
       "2  0.11756  0.108020  ...  0.54310  0.54311  0.54349  0.54735  12466  218.15   \n",
       "3  0.10301  0.094112  ...  0.53562  0.53882  0.53679  0.53728  12420  215.46   \n",
       "4  0.11361  0.103620  ...  0.52167  0.52311  0.52263  0.52652  13851  238.71   \n",
       "\n",
       "      259      260       261      262  \n",
       "0  76.130  0.31664  0.038539  0.94855  \n",
       "1  74.044  0.33894  0.039736  0.94081  \n",
       "2  73.619  0.33747  0.040051  0.94134  \n",
       "3  74.641  0.34644  0.041690  0.93807  \n",
       "4  74.448  0.31187  0.038821  0.95012  \n",
       "\n",
       "[5 rows x 264 columns]"
      ]
     },
     "execution_count": 74,
     "metadata": {},
     "output_type": "execute_result"
    }
   ],
   "source": [
    "df.head()"
   ]
  },
  {
   "cell_type": "code",
   "execution_count": 108,
   "metadata": {},
   "outputs": [
    {
     "data": {
      "text/plain": [
       "(576, 255)"
      ]
     },
     "execution_count": 108,
     "metadata": {},
     "output_type": "execute_result"
    }
   ],
   "source": [
    "X = df.values[:, 8:263]\n",
    "Y = df.values[:, 1]\n",
    "X.shape"
   ]
  },
  {
   "cell_type": "code",
   "execution_count": 109,
   "metadata": {},
   "outputs": [
    {
     "name": "stderr",
     "output_type": "stream",
     "text": [
      "C:\\Users\\USER\\Anaconda3\\lib\\site-packages\\sklearn\\utils\\validation.py:595: DataConversionWarning: Data with input dtype object was converted to float64 by StandardScaler.\n",
      "  warnings.warn(msg, DataConversionWarning)\n",
      "C:\\Users\\USER\\Anaconda3\\lib\\site-packages\\sklearn\\utils\\validation.py:595: DataConversionWarning: Data with input dtype object was converted to float64 by StandardScaler.\n",
      "  warnings.warn(msg, DataConversionWarning)\n"
     ]
    }
   ],
   "source": [
    "# Feature Scaling\n",
    "from sklearn.preprocessing import StandardScaler\n",
    "sc_X = StandardScaler()\n",
    "X = sc_X.fit_transform(X)\n",
    "X_test = sc_X.transform(X)\n",
    "X_train, X_test, y_train, y_test = train_test_split( X, Y, test_size = 0.2, random_state = 96)"
   ]
  },
  {
   "cell_type": "code",
   "execution_count": 110,
   "metadata": {},
   "outputs": [],
   "source": [
    "#PCA\n",
    "from sklearn.decomposition import PCA\n",
    "pca = PCA(n_components= 20)\n",
    "X_train_pca = pca.fit_transform(X_train)"
   ]
  },
  {
   "cell_type": "code",
   "execution_count": 111,
   "metadata": {},
   "outputs": [
    {
     "data": {
      "text/plain": [
       "RandomForestClassifier(bootstrap=True, class_weight=None, criterion='entropy',\n",
       "            max_depth=5, max_features='auto', max_leaf_nodes=None,\n",
       "            min_impurity_decrease=0.0, min_impurity_split=None,\n",
       "            min_samples_leaf=1, min_samples_split=2,\n",
       "            min_weight_fraction_leaf=0.0, n_estimators=200, n_jobs=None,\n",
       "            oob_score=False, random_state=40, verbose=0, warm_start=False)"
      ]
     },
     "execution_count": 111,
     "metadata": {},
     "output_type": "execute_result"
    }
   ],
   "source": [
    "#RF\n",
    "from sklearn.ensemble import RandomForestClassifier\n",
    "classifier = RandomForestClassifier(n_estimators = 200, criterion = 'entropy', max_depth = 5, min_samples_leaf = 1, random_state = 40)\n",
    "classifier_pca = RandomForestClassifier(n_estimators = 200, criterion = 'entropy', max_depth = 5, min_samples_leaf = 1, random_state = 40)\n",
    "classifier.fit(X_train,y_train)"
   ]
  },
  {
   "cell_type": "code",
   "execution_count": 112,
   "metadata": {},
   "outputs": [
    {
     "name": "stdout",
     "output_type": "stream",
     "text": [
      "Accuracy is\n"
     ]
    },
    {
     "data": {
      "text/plain": [
       "(None, 93.96551724137932)"
      ]
     },
     "execution_count": 112,
     "metadata": {},
     "output_type": "execute_result"
    }
   ],
   "source": [
    "Y_pred = classifier.predict(X_test)\n",
    "print(\"Accuracy is\"), accuracy_score(y_test,Y_pred)*100"
   ]
  },
  {
   "cell_type": "code",
   "execution_count": 113,
   "metadata": {},
   "outputs": [
    {
     "data": {
      "text/plain": [
       "RandomForestClassifier(bootstrap=True, class_weight=None, criterion='entropy',\n",
       "            max_depth=5, max_features='auto', max_leaf_nodes=None,\n",
       "            min_impurity_decrease=0.0, min_impurity_split=None,\n",
       "            min_samples_leaf=1, min_samples_split=2,\n",
       "            min_weight_fraction_leaf=0.0, n_estimators=200, n_jobs=None,\n",
       "            oob_score=False, random_state=40, verbose=0, warm_start=False)"
      ]
     },
     "execution_count": 113,
     "metadata": {},
     "output_type": "execute_result"
    }
   ],
   "source": [
    "X_test_pca = pca.transform(X_test)\n",
    "classifier_pca.fit(X_train_pca, y_train)"
   ]
  },
  {
   "cell_type": "code",
   "execution_count": 114,
   "metadata": {},
   "outputs": [
    {
     "name": "stdout",
     "output_type": "stream",
     "text": [
      "Accuracy is\n"
     ]
    },
    {
     "data": {
      "text/plain": [
       "(None, 89.65517241379311)"
      ]
     },
     "execution_count": 114,
     "metadata": {},
     "output_type": "execute_result"
    }
   ],
   "source": [
    "Y_pred_pca = classifier_pca.predict(X_test_pca)\n",
    "print(\"Accuracy is\"), accuracy_score(y_test,Y_pred_pca)*100"
   ]
  },
  {
   "cell_type": "code",
   "execution_count": 94,
   "metadata": {},
   "outputs": [],
   "source": [
    "#from sklearn.svm import SVC\n",
    "\n",
    "#svc = SVC()#kernel='linear')\n",
    "#svc_pca = SVC()#kernel='linear')\n",
    "\n",
    "#svc.fit(X_train, y_train)\n",
    "#print(svc.score(X_test, y_test))"
   ]
  },
  {
   "cell_type": "code",
   "execution_count": 95,
   "metadata": {},
   "outputs": [],
   "source": [
    "#X_test_pca = pca.transform(X_test)\n",
    "\n",
    "#svc_pca.fit(X_train_pca, y_train)\n",
    "#print(svc_pca.score(X_test_pca, y_test))"
   ]
  },
  {
   "cell_type": "code",
   "execution_count": 115,
   "metadata": {},
   "outputs": [
    {
     "name": "stdout",
     "output_type": "stream",
     "text": [
      "Accuracy is\n"
     ]
    },
    {
     "name": "stderr",
     "output_type": "stream",
     "text": [
      "C:\\Users\\USER\\Anaconda3\\lib\\site-packages\\sklearn\\discriminant_analysis.py:388: UserWarning: Variables are collinear.\n",
      "  warnings.warn(\"Variables are collinear.\")\n"
     ]
    },
    {
     "data": {
      "text/plain": [
       "(None, 98.27586206896551)"
      ]
     },
     "execution_count": 115,
     "metadata": {},
     "output_type": "execute_result"
    }
   ],
   "source": [
    "#LDA\n",
    "from sklearn.discriminant_analysis import LinearDiscriminantAnalysis as LDA\n",
    "lda = LDA(n_components=2)\n",
    "lda.fit(X_train,y_train)\n",
    "y_pred = lda.predict(X_test)\n",
    "print(\"Accuracy is\"), accuracy_score(y_test,y_pred)*100"
   ]
  },
  {
   "cell_type": "code",
   "execution_count": 116,
   "metadata": {},
   "outputs": [
    {
     "name": "stdout",
     "output_type": "stream",
     "text": [
      "Accuracy is\n"
     ]
    },
    {
     "data": {
      "text/plain": [
       "(None, 99.13793103448276)"
      ]
     },
     "execution_count": 116,
     "metadata": {},
     "output_type": "execute_result"
    }
   ],
   "source": [
    "lda_pca = LDA(n_components = 2)\n",
    "lda_pca.fit(X_train_pca, y_train)\n",
    "Y_pred_pca = lda_pca.predict(X_test_pca)\n",
    "print(\"Accuracy is\"), accuracy_score(y_test,Y_pred_pca)*100"
   ]
  },
  {
   "cell_type": "code",
   "execution_count": 117,
   "metadata": {},
   "outputs": [
    {
     "data": {
      "image/png": "[encoded data removed]",
      "text/plain": [
       "<Figure size 396x288 with 2 Axes>"
      ]
     },
     "metadata": {
      "needs_background": "light"
     },
     "output_type": "display_data"
    }
   ],
   "source": [
    "import matplotlib.pyplot as plt\n",
    "%matplotlib inline\n",
    "cm = confusion_matrix(y_test,Y_pred_pca) \n",
    "\n",
    "cm_df = pd.DataFrame(cm)\n",
    "\n",
    "plt.figure(figsize=(5.5,4))\n",
    "sns.heatmap(cm_df, annot=True)\n",
    "plt.title(format(accuracy_score(y_test, Y_pred_pca)))\n",
    "plt.ylabel('True label')\n",
    "plt.xlabel('Predicted label')\n",
    "plt.show()"
   ]
  },
  {
   "cell_type": "code",
   "execution_count": 118,
   "metadata": {},
   "outputs": [
    {
     "data": {
      "text/plain": [
       "(240, 264)"
      ]
     },
     "execution_count": 118,
     "metadata": {},
     "output_type": "execute_result"
    }
   ],
   "source": [
    "# Lấy 1->40 hạt đầu mỗi giống\n",
    "df1 = pd.DataFrame(df.sort_values('ID', ascending = True).groupby('Species').head(40))\n",
    "df1.shape"
   ]
  },
  {
   "cell_type": "code",
   "execution_count": 119,
   "metadata": {},
   "outputs": [],
   "source": [
    "X = df1.values[:, 8:263]\n",
    "Y = df1.values[:, 1]"
   ]
  },
  {
   "cell_type": "code",
   "execution_count": 120,
   "metadata": {},
   "outputs": [
    {
     "name": "stderr",
     "output_type": "stream",
     "text": [
      "C:\\Users\\USER\\Anaconda3\\lib\\site-packages\\sklearn\\utils\\validation.py:595: DataConversionWarning: Data with input dtype object was converted to float64 by StandardScaler.\n",
      "  warnings.warn(msg, DataConversionWarning)\n",
      "C:\\Users\\USER\\Anaconda3\\lib\\site-packages\\sklearn\\utils\\validation.py:595: DataConversionWarning: Data with input dtype object was converted to float64 by StandardScaler.\n",
      "  warnings.warn(msg, DataConversionWarning)\n"
     ]
    }
   ],
   "source": [
    "# Feature Scaling\n",
    "from sklearn.preprocessing import StandardScaler\n",
    "sc_X = StandardScaler()\n",
    "X = sc_X.fit_transform(X)\n",
    "X_test = sc_X.transform(X)\n",
    "X_train, X_test, y_train, y_test = train_test_split( X, Y, test_size = 0.2, random_state = 96)"
   ]
  },
  {
   "cell_type": "code",
   "execution_count": 121,
   "metadata": {},
   "outputs": [],
   "source": [
    "#PCA\n",
    "from sklearn.decomposition import PCA\n",
    "pca = PCA(n_components= 20)\n",
    "X_train_pca = pca.fit_transform(X_train)"
   ]
  },
  {
   "cell_type": "code",
   "execution_count": 122,
   "metadata": {},
   "outputs": [
    {
     "data": {
      "text/plain": [
       "RandomForestClassifier(bootstrap=True, class_weight=None, criterion='entropy',\n",
       "            max_depth=5, max_features='auto', max_leaf_nodes=None,\n",
       "            min_impurity_decrease=0.0, min_impurity_split=None,\n",
       "            min_samples_leaf=1, min_samples_split=2,\n",
       "            min_weight_fraction_leaf=0.0, n_estimators=200, n_jobs=None,\n",
       "            oob_score=False, random_state=40, verbose=0, warm_start=False)"
      ]
     },
     "execution_count": 122,
     "metadata": {},
     "output_type": "execute_result"
    }
   ],
   "source": [
    "#RF\n",
    "from sklearn.ensemble import RandomForestClassifier\n",
    "classifier = RandomForestClassifier(n_estimators = 200, criterion = 'entropy', max_depth = 5, min_samples_leaf = 1, random_state = 40)\n",
    "classifier_pca = RandomForestClassifier(n_estimators = 200, criterion = 'entropy', max_depth = 5, min_samples_leaf = 1, random_state = 40)\n",
    "classifier.fit(X_train,y_train)"
   ]
  },
  {
   "cell_type": "code",
   "execution_count": 123,
   "metadata": {},
   "outputs": [
    {
     "name": "stdout",
     "output_type": "stream",
     "text": [
      "Accuracy is\n"
     ]
    },
    {
     "data": {
      "text/plain": [
       "(None, 89.58333333333334)"
      ]
     },
     "execution_count": 123,
     "metadata": {},
     "output_type": "execute_result"
    }
   ],
   "source": [
    "Y_pred = classifier.predict(X_test)\n",
    "print(\"Accuracy is\"), accuracy_score(y_test,Y_pred)*100"
   ]
  },
  {
   "cell_type": "code",
   "execution_count": 124,
   "metadata": {},
   "outputs": [
    {
     "data": {
      "text/plain": [
       "RandomForestClassifier(bootstrap=True, class_weight=None, criterion='entropy',\n",
       "            max_depth=5, max_features='auto', max_leaf_nodes=None,\n",
       "            min_impurity_decrease=0.0, min_impurity_split=None,\n",
       "            min_samples_leaf=1, min_samples_split=2,\n",
       "            min_weight_fraction_leaf=0.0, n_estimators=200, n_jobs=None,\n",
       "            oob_score=False, random_state=40, verbose=0, warm_start=False)"
      ]
     },
     "execution_count": 124,
     "metadata": {},
     "output_type": "execute_result"
    }
   ],
   "source": [
    "X_test_pca = pca.transform(X_test)\n",
    "classifier_pca.fit(X_train_pca, y_train)"
   ]
  },
  {
   "cell_type": "code",
   "execution_count": 125,
   "metadata": {},
   "outputs": [
    {
     "name": "stdout",
     "output_type": "stream",
     "text": [
      "Accuracy is\n"
     ]
    },
    {
     "data": {
      "text/plain": [
       "(None, 87.5)"
      ]
     },
     "execution_count": 125,
     "metadata": {},
     "output_type": "execute_result"
    }
   ],
   "source": [
    "Y_pred_pca = classifier_pca.predict(X_test_pca)\n",
    "print(\"Accuracy is\"), accuracy_score(y_test,Y_pred_pca)*100"
   ]
  },
  {
   "cell_type": "code",
   "execution_count": 126,
   "metadata": {},
   "outputs": [
    {
     "name": "stdout",
     "output_type": "stream",
     "text": [
      "Accuracy is\n"
     ]
    },
    {
     "name": "stderr",
     "output_type": "stream",
     "text": [
      "C:\\Users\\USER\\Anaconda3\\lib\\site-packages\\sklearn\\discriminant_analysis.py:388: UserWarning: Variables are collinear.\n",
      "  warnings.warn(\"Variables are collinear.\")\n"
     ]
    },
    {
     "data": {
      "text/plain": [
       "(None, 97.91666666666666)"
      ]
     },
     "execution_count": 126,
     "metadata": {},
     "output_type": "execute_result"
    }
   ],
   "source": [
    "#LDA\n",
    "from sklearn.discriminant_analysis import LinearDiscriminantAnalysis as LDA\n",
    "lda = LDA(n_components=2)\n",
    "lda.fit(X_train,y_train)\n",
    "y_pred = lda.predict(X_test)\n",
    "print(\"Accuracy is\"), accuracy_score(y_test,y_pred)*100"
   ]
  },
  {
   "cell_type": "code",
   "execution_count": 127,
   "metadata": {},
   "outputs": [
    {
     "name": "stdout",
     "output_type": "stream",
     "text": [
      "Accuracy is\n"
     ]
    },
    {
     "data": {
      "text/plain": [
       "(None, 100.0)"
      ]
     },
     "execution_count": 127,
     "metadata": {},
     "output_type": "execute_result"
    }
   ],
   "source": [
    "lda_pca = LDA(n_components = 2)\n",
    "lda_pca.fit(X_train_pca, y_train)\n",
    "Y_pred_pca = lda_pca.predict(X_test_pca)\n",
    "print(\"Accuracy is\"), accuracy_score(y_test,Y_pred_pca)*100"
   ]
  },
  {
   "cell_type": "code",
   "execution_count": 128,
   "metadata": {},
   "outputs": [
    {
     "data": {
      "image/png": "[encoded data removed]",
      "text/plain": [
       "<Figure size 396x288 with 2 Axes>"
      ]
     },
     "metadata": {
      "needs_background": "light"
     },
     "output_type": "display_data"
    }
   ],
   "source": [
    "import matplotlib.pyplot as plt\n",
    "%matplotlib inline\n",
    "cm = confusion_matrix(y_test,Y_pred_pca) \n",
    "\n",
    "cm_df = pd.DataFrame(cm)\n",
    "\n",
    "plt.figure(figsize=(5.5,4))\n",
    "sns.heatmap(cm_df, annot=True)\n",
    "plt.title(format(accuracy_score(y_test, Y_pred_pca)))\n",
    "plt.ylabel('True label')\n",
    "plt.xlabel('Predicted label')\n",
    "plt.show()"
   ]
  },
  {
   "cell_type": "code",
   "execution_count": null,
   "metadata": {},
   "outputs": [],
   "source": []
  }
 ],
 "metadata": {
  "kernelspec": {
   "display_name": "Python 3",
   "language": "python",
   "name": "python3"
  },
  "language_info": {
   "codemirror_mode": {
    "name": "ipython",
    "version": 3
   },
   "file_extension": ".py",
   "mimetype": "text/x-python",
   "name": "python",
   "nbconvert_exporter": "python",
   "pygments_lexer": "ipython3",
   "version": "3.6.7"
  }
 },
 "nbformat": 4,
 "nbformat_minor": 2
}
