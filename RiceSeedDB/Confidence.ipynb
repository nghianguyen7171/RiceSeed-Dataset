{
 "cells": [
  {
   "cell_type": "code",
   "execution_count": 1,
   "metadata": {},
   "outputs": [
    {
     "data": {
      "text/plain": [
       "(576, 264)"
      ]
     },
     "execution_count": 1,
     "metadata": {},
     "output_type": "execute_result"
    }
   ],
   "source": [
    "# Import lib\n",
    "import numpy as np\n",
    "import pandas as pd\n",
    "import seaborn as sns\n",
    "from sklearn.model_selection import train_test_split, cross_val_score\n",
    "from sklearn.metrics import accuracy_score,classification_report,confusion_matrix\n",
    "Data = pd.read_csv('riceseeds.csv')\n",
    "#Choose 6 motil species\n",
    "df = Data[Data['Species'].isin(['BC15','BQ10','NH92','NT16','PC10','VietHuong8'])]\n",
    "df.shape"
   ]
  },
  {
   "cell_type": "code",
   "execution_count": 2,
   "metadata": {},
   "outputs": [
    {
     "data": {
      "text/plain": [
       "(576, 255)"
      ]
     },
     "execution_count": 2,
     "metadata": {},
     "output_type": "execute_result"
    }
   ],
   "source": [
    "X = df.values[:, 8:263]\n",
    "Y = df.values[:, 1]\n",
    "X.shape"
   ]
  },
  {
   "cell_type": "code",
   "execution_count": 3,
   "metadata": {},
   "outputs": [
    {
     "name": "stderr",
     "output_type": "stream",
     "text": [
      "C:\\Users\\USER\\Anaconda3\\lib\\site-packages\\sklearn\\utils\\validation.py:595: DataConversionWarning: Data with input dtype object was converted to float64 by StandardScaler.\n",
      "  warnings.warn(msg, DataConversionWarning)\n",
      "C:\\Users\\USER\\Anaconda3\\lib\\site-packages\\sklearn\\utils\\validation.py:595: DataConversionWarning: Data with input dtype object was converted to float64 by StandardScaler.\n",
      "  warnings.warn(msg, DataConversionWarning)\n"
     ]
    }
   ],
   "source": [
    "# Feature Scaling\n",
    "from sklearn.preprocessing import StandardScaler\n",
    "sc_X = StandardScaler()\n",
    "X = sc_X.fit_transform(X)\n",
    "X_test = sc_X.transform(X)\n",
    "X_train, X_test, y_train, y_test = train_test_split( X, Y, test_size = 0.2, random_state = 96)"
   ]
  },
  {
   "cell_type": "code",
   "execution_count": 4,
   "metadata": {},
   "outputs": [],
   "source": [
    "#PCA\n",
    "from sklearn.decomposition import PCA\n",
    "pca = PCA(n_components= 20)\n",
    "X_train_pca = pca.fit_transform(X_train)"
   ]
  },
  {
   "cell_type": "code",
   "execution_count": 5,
   "metadata": {},
   "outputs": [
    {
     "data": {
      "text/plain": [
       "RandomForestClassifier(bootstrap=True, class_weight=None, criterion='entropy',\n",
       "            max_depth=5, max_features='auto', max_leaf_nodes=None,\n",
       "            min_impurity_decrease=0.0, min_impurity_split=None,\n",
       "            min_samples_leaf=1, min_samples_split=2,\n",
       "            min_weight_fraction_leaf=0.0, n_estimators=200, n_jobs=None,\n",
       "            oob_score=False, random_state=40, verbose=0, warm_start=False)"
      ]
     },
     "execution_count": 5,
     "metadata": {},
     "output_type": "execute_result"
    }
   ],
   "source": [
    "#RF\n",
    "from sklearn.ensemble import RandomForestClassifier\n",
    "classifier = RandomForestClassifier(n_estimators = 200, criterion = 'entropy', max_depth = 5, min_samples_leaf = 1, random_state = 40)\n",
    "classifier_pca = RandomForestClassifier(n_estimators = 200, criterion = 'entropy', max_depth = 5, min_samples_leaf = 1, random_state = 40)\n",
    "classifier.fit(X_train,y_train)"
   ]
  },
  {
   "cell_type": "code",
   "execution_count": 6,
   "metadata": {},
   "outputs": [
    {
     "name": "stdout",
     "output_type": "stream",
     "text": [
      "Accuracy is\n"
     ]
    },
    {
     "data": {
      "text/plain": [
       "(None, 93.96551724137932)"
      ]
     },
     "execution_count": 6,
     "metadata": {},
     "output_type": "execute_result"
    }
   ],
   "source": [
    "Y_pred = classifier.predict(X_test)\n",
    "print(\"Accuracy is\"), accuracy_score(y_test,Y_pred)*100"
   ]
  },
  {
   "cell_type": "code",
   "execution_count": 8,
   "metadata": {},
   "outputs": [
    {
     "data": {
      "text/plain": [
       "array([2.19960523e-01, 5.45693472e-02, 0.00000000e+00, 5.07462687e-03,\n",
       "       0.00000000e+00, 5.60462343e-01, 0.00000000e+00, 0.00000000e+00,\n",
       "       8.97453652e-01, 3.22444707e-03, 2.79561486e-02, 6.99626866e-04,\n",
       "       1.38481847e-01, 5.68438296e-03, 2.65712960e-01, 3.48256121e-01,\n",
       "       4.75728664e-01, 1.13636364e-04, 0.00000000e+00, 3.77554093e-03,\n",
       "       6.85339836e-02, 3.14146036e-02, 1.47327182e-01, 1.02311363e-01,\n",
       "       9.58694621e-02, 0.00000000e+00, 5.54536301e-01, 4.41587860e-03,\n",
       "       7.76053926e-01, 0.00000000e+00, 0.00000000e+00, 0.00000000e+00,\n",
       "       0.00000000e+00, 6.99626866e-04, 1.22045098e-01, 1.70935987e-01,\n",
       "       4.55079502e-02, 5.99266605e-01, 4.68369170e-02, 2.01145891e-01,\n",
       "       8.79402981e-01, 0.00000000e+00, 0.00000000e+00, 0.00000000e+00,\n",
       "       9.80392157e-04, 0.00000000e+00, 0.00000000e+00, 0.00000000e+00,\n",
       "       0.00000000e+00, 0.00000000e+00, 6.84382963e-04, 9.61333595e-03,\n",
       "       4.22069188e-02, 9.17720892e-01, 0.00000000e+00, 6.84382963e-04,\n",
       "       6.71778355e-01, 9.36539451e-02, 6.84382963e-04, 0.00000000e+00,\n",
       "       1.37883984e-01, 1.44224138e-02, 0.00000000e+00, 3.12173784e-01,\n",
       "       2.10671598e-01, 2.10808198e-01, 1.14954469e-01, 0.00000000e+00,\n",
       "       0.00000000e+00, 4.35184647e-01, 0.00000000e+00, 0.00000000e+00,\n",
       "       5.65034363e-03, 0.00000000e+00, 0.00000000e+00, 0.00000000e+00,\n",
       "       0.00000000e+00, 6.99626866e-04, 2.59178115e-02, 0.00000000e+00,\n",
       "       7.88455530e-01, 0.00000000e+00, 1.25000000e-03, 5.93769999e-01,\n",
       "       2.10251043e-01, 0.00000000e+00, 6.08066711e-02, 0.00000000e+00,\n",
       "       7.47046020e-03, 3.59723732e-02, 8.79013930e-01, 9.33765480e-02,\n",
       "       6.23916015e-03, 7.71769242e-01, 8.92111676e-01, 0.00000000e+00,\n",
       "       3.22444707e-03, 7.97604963e-03, 2.84228710e-02, 2.14267891e-01,\n",
       "       3.52373859e-01, 1.39047061e-01, 9.63539334e-04, 5.31106965e-02,\n",
       "       1.67542175e-01, 0.00000000e+00, 2.94313022e-03, 0.00000000e+00,\n",
       "       0.00000000e+00, 0.00000000e+00, 1.31896306e-01, 2.84357578e-03,\n",
       "       1.45361373e-03, 2.36549816e-02, 1.00453042e-02, 1.63148232e-01])"
      ]
     },
     "execution_count": 8,
     "metadata": {},
     "output_type": "execute_result"
    }
   ],
   "source": [
    "classifier.predict_proba(X_test)[:, 1]"
   ]
  },
  {
   "cell_type": "code",
   "execution_count": null,
   "metadata": {},
   "outputs": [],
   "source": []
  }
 ],
 "metadata": {
  "kernelspec": {
   "display_name": "Python 3",
   "language": "python",
   "name": "python3"
  },
  "language_info": {
   "codemirror_mode": {
    "name": "ipython",
    "version": 3
   },
   "file_extension": ".py",
   "mimetype": "text/x-python",
   "name": "python",
   "nbconvert_exporter": "python",
   "pygments_lexer": "ipython3",
   "version": "3.6.7"
  }
 },
 "nbformat": 4,
 "nbformat_minor": 2
}
